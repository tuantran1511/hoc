{
 "cells": [
  {
   "cell_type": "code",
   "execution_count": 1,
   "id": "282a8fdc",
   "metadata": {},
   "outputs": [
    {
     "ename": "NameError",
     "evalue": "name 'turtle' is not defined",
     "output_type": "error",
     "traceback": [
      "\u001b[1;31m---------------------------------------------------------------------------\u001b[0m",
      "\u001b[1;31mNameError\u001b[0m                                 Traceback (most recent call last)",
      "Input \u001b[1;32mIn [1]\u001b[0m, in \u001b[0;36m<cell line: 2>\u001b[1;34m()\u001b[0m\n\u001b[0;32m      1\u001b[0m \u001b[38;5;66;03m#vẽ nhà\u001b[39;00m\n\u001b[1;32m----> 2\u001b[0m \u001b[43mturtle\u001b[49m\u001b[38;5;241m.\u001b[39mpensize(\u001b[38;5;241m1\u001b[39m)\n\u001b[0;32m      3\u001b[0m turtle\u001b[38;5;241m.\u001b[39mrt (\u001b[38;5;241m90\u001b[39m)\n\u001b[0;32m      4\u001b[0m turtle\u001b[38;5;241m.\u001b[39mfd(\u001b[38;5;241m1000\u001b[39m)\n",
      "\u001b[1;31mNameError\u001b[0m: name 'turtle' is not defined"
     ]
    }
   ],
   "source": [
    "#vẽ nhà\n",
    "import turtle\n",
    "turtle.rt (90)\n",
    "t"
   ]
  },
  {
   "cell_type": "code",
   "execution_count": 10,
   "id": "db8b2b4c",
   "metadata": {},
   "outputs": [
    {
     "name": "stdout",
     "output_type": "stream",
     "text": [
      "5050\n"
     ]
    }
   ],
   "source": [
    "a = 100\n",
    "S = 0\n",
    "k = 1\n",
    "for i in range(a):\n",
    "    S+=k\n",
    "    k +=1\n",
    "print(S)"
   ]
  },
  {
   "cell_type": "code",
   "execution_count": null,
   "id": "f06bc47e",
   "metadata": {},
   "outputs": [],
   "source": [
    "a = 100\n",
    "S = 0\n",
    "for i in range(a):\n",
    "    S+=\n",
    "print(S)"
   ]
  },
  {
   "cell_type": "code",
   "execution_count": null,
   "id": "e1652f4e",
   "metadata": {},
   "outputs": [],
   "source": [
    "import turtle\n",
    "t = turtle.Turtle()\n",
    "\n",
    "a = 10\n",
    "b = 50\n",
    "\n",
    "for i in range(a):\n",
    "    for i in range(3):\n",
    "        t.fd(b)\n",
    "        t.left(120)\n",
    "    t.penup()\n",
    "    t.bk(0.1*b)\n",
    "    b = b*1.2\n",
    "    t.pendown()"
   ]
  },
  {
   "cell_type": "code",
   "execution_count": null,
   "id": "17b792af",
   "metadata": {},
   "outputs": [],
   "source": [
    "import turtle\n",
    "t=turtle.Turtle()\n",
    "a = 10\n",
    "b = 100\n",
    "for i in range(a):\n",
    "    for i in range(3):\n",
    "        t.fd(b)\n",
    "        t.lt(120)\n",
    "    t.penup()\n",
    "    t.bk(0.1*b)\n",
    "    b=1.2*b\n",
    "    t.pendown()"
   ]
  },
  {
   "cell_type": "code",
   "execution_count": 1,
   "id": "f1ca02e3",
   "metadata": {},
   "outputs": [],
   "source": [
    "import turtle\n",
    "mc = turtle.Turtle()\n",
    "mc.color(\"black\",\"yellow\")\n",
    "mc.begin_fill()\n",
    "mc.circle(200)\n",
    "mc.end_fill()\n",
    "mat1 = turtl.Turtle()\n",
    "mat1.color(\"black\",\"white\")\n",
    "mat1.begin_fill()\n",
    "mat1.penup()\n",
    "mat1.goto(-100,200)\n",
    "mat1.pendown()\n",
    "mat1.circle(50)\n",
    "mat1.end_fill()\n",
    "mat1.color(\"black\",\"black\")\n",
    "mat1.begin_fill()\n",
    "mat1.circle(20)\n",
    "mat1.end_fill()\n",
    "mat2 = turtle.Turtle()\n",
    "mat2.color(\"black\",\"white\")\n",
    "mat2.begin_fill()\n",
    "mat2.penup()\n",
    "mat2.goto(100,200)\n",
    "mat2.pendown()\n",
    "mat2.circle(50)\n",
    "mat2.end_fill()\n",
    "mat2.color(\"black\",\"black\")\n",
    "mat2.begin_fill()\n",
    "mat2.circle(20)\n",
    "mat2.end_fill()\n",
    "mat2.penup()\n",
    "mat2.rt(90)\n",
    "mat2.fd(50)\n",
    "mat2.pendown()\n",
    "mat2.pensize(4)\n",
    "mat2.pencolor(\"black\")\n",
    "for i in range(180):\n",
    "    mat2.fd(100*3.14*2/360)\n",
    "    mat2.rt(1)"
   ]
  },
  {
   "cell_type": "code",
   "execution_count": 1,
   "id": "7b11aefd",
   "metadata": {},
   "outputs": [],
   "source": [
    "import turtle\n",
    "mc = turtle.Turtle()\n",
    "mc.color(\"black\",\"yellow\")\n",
    "mc.begin_fill()\n",
    "mc.circle(200)\n",
    "mc.end_fill()\n",
    "mc.color(\"black\",\"white\")\n",
    "mc.begin_fill()\n",
    "mc.penup()\n",
    "mc.goto(-100,200)\n",
    "mc.pendown()\n",
    "mc.circle(50)\n",
    "mc.end_fill()\n",
    "mc.color(\"black\",\"black\")\n",
    "mc.begin_fill()\n",
    "mc.circle(20)\n",
    "mc.end_fill()\n",
    "mc.color(\"black\",\"white\")\n",
    "mc.begin_fill()\n",
    "mc.penup()\n",
    "mc.goto(100,200)\n",
    "mc.pendown()\n",
    "mc.circle(50)\n",
    "mc.end_fill()\n",
    "mc.color(\"black\",\"black\")\n",
    "mc.begin_fill()\n",
    "mc.circle(20)\n",
    "mc.end_fill()\n",
    "mc.penup()\n",
    "mc.rt(90)\n",
    "mc.fd(50)\n",
    "mc.pendown()\n",
    "mc.pensize(4)\n",
    "mc.pencolor(\"black\")\n",
    "for i in range(180):\n",
    "    mc.fd(100*3.14*2/360)\n",
    "    mc.rt(1)"
   ]
  },
  {
   "cell_type": "code",
   "execution_count": null,
   "id": "3aeac97d",
   "metadata": {},
   "outputs": [],
   "source": [
    "import turtle\n",
    "turtle.pensize(5)\n",
    "turtle.pencolor(\"Blue\")\n",
    "facesize = 200\n",
    "turtle.penup()\n",
    "turtle.goto(0, -200)\n",
    "turtle.pendown()\n",
    "turtle.circle(facesize)\n",
    "turtle.fillcolor (\"red\")\n",
    "turtle.penup()\n",
    "turtle.goto(-100,50)\n",
    "turtle.pendown()\n",
    "eye_size = 17.5\n",
    " \n",
    "turtle.begin_fill()\n",
    "turtle.circle(eye_size)\n",
    "turtle.end_fill()\n",
    "turtle.penup()\n",
    " \n",
    "turtle.goto(100,50)\n",
    "turtle.pendown()\n",
    "turtle.begin_fill()\n",
    "turtle.circle(eye_size)\n",
    "turtle.end_fill()\n",
    "turtle.penup ()\n",
    "turtle.goto(0,50)\n",
    "turtle.pendown()\n",
    "turtle.circle(-70, steps=3)\n",
    "turtle.penup()\n",
    "turtle.goto(-100, -70)\n",
    "turtle.pendown()\n",
    "turtle.right(90)\n",
    "turtle.circle(100,180)\n",
    "turtle.mainloop()"
   ]
  }
 ],
 "metadata": {
  "kernelspec": {
   "display_name": "Python 3 (ipykernel)",
   "language": "python",
   "name": "python3"
  },
  "language_info": {
   "codemirror_mode": {
    "name": "ipython",
    "version": 3
   },
   "file_extension": ".py",
   "mimetype": "text/x-python",
   "name": "python",
   "nbconvert_exporter": "python",
   "pygments_lexer": "ipython3",
   "version": "3.10.4"
  }
 },
 "nbformat": 4,
 "nbformat_minor": 5
}
