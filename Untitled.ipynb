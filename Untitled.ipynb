{
 "cells": [
  {
   "cell_type": "code",
   "execution_count": 73,
   "id": "764545cd",
   "metadata": {},
   "outputs": [
    {
     "name": "stdout",
     "output_type": "stream",
     "text": [
      "học sinh trung bình\n"
     ]
    }
   ],
   "source": [
    "x=(1)\n",
    "if x>=8:\n",
    "    print  (\"học sinh giỏi\")\n",
    "if x<8:\n",
    "    if x>=6:\n",
    "        print(\"học sinh khá\")\n",
    "    if x<6: \n",
    "        print(\"học sinh trung bình\")"
   ]
  },
  {
   "cell_type": "code",
   "execution_count": 75,
   "id": "95f8ac76",
   "metadata": {},
   "outputs": [
    {
     "name": "stdout",
     "output_type": "stream",
     "text": [
      "2\n"
     ]
    }
   ],
   "source": [
    "x=(27)\n",
    "print (x % 5)\n"
   ]
  }
 ],
 "metadata": {
  "kernelspec": {
   "display_name": "Python 3 (ipykernel)",
   "language": "python",
   "name": "python3"
  },
  "language_info": {
   "codemirror_mode": {
    "name": "ipython",
    "version": 3
   },
   "file_extension": ".py",
   "mimetype": "text/x-python",
   "name": "python",
   "nbconvert_exporter": "python",
   "pygments_lexer": "ipython3",
   "version": "3.10.4"
  }
 },
 "nbformat": 4,
 "nbformat_minor": 5
}
