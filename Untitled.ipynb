{
 "cells": [
  {
   "cell_type": "code",
   "execution_count": 2,
   "id": "7733d5bd",
   "metadata": {},
   "outputs": [
    {
     "name": "stdout",
     "output_type": "stream",
     "text": [
      "Enter the length of side a: 12.5\n",
      "Enter the length of side b: 5\n",
      "Enter the length of side c: 10\n",
      " Area of the triangle is:  23.747943989954162\n"
     ]
    }
   ],
   "source": [
    "import math\n",
    "a = float(input(\"Enter the length of side a: \"))\n",
    "b = float(input(\"Enter the length of side b: \"))\n",
    "c = float(input(\"Enter the length of side c: \"))\n",
    "s = (a+b+c)/2\n",
    "area = math.sqrt(s*(s-a)*(s-b)*(s-c))\n",
    "print(\" Area of the triangle is: \", area)"
   ]
  },
  {
   "cell_type": "code",
   "execution_count": null,
   "id": "7fade68f",
   "metadata": {},
   "outputs": [],
   "source": [
    "a = input('nhập số a : ')\n",
    "b = input('nhập số b : ')\n",
    "c = input(' nhập số c: ')\n",
    "delta = b*b -4*a*c\n",
    "if delta < 0\n",
    "    print ('phương trình vô nghiệm')\n",
    "if delta = 0\n",
    "    x = -b/2*a\n",
    "    print(\"phương trình có nghiệm kép x1 = x2 \", x )"
   ]
  },
  {
   "cell_type": "code",
   "execution_count": null,
   "id": "3711cd88",
   "metadata": {},
   "outputs": [],
   "source": []
  }
 ],
 "metadata": {
  "kernelspec": {
   "display_name": "Python 3 (ipykernel)",
   "language": "python",
   "name": "python3"
  },
  "language_info": {
   "codemirror_mode": {
    "name": "ipython",
    "version": 3
   },
   "file_extension": ".py",
   "mimetype": "text/x-python",
   "name": "python",
   "nbconvert_exporter": "python",
   "pygments_lexer": "ipython3",
   "version": "3.10.4"
  }
 },
 "nbformat": 4,
 "nbformat_minor": 5
}
